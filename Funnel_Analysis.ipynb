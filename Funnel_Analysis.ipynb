{
  "nbformat": 4,
  "nbformat_minor": 0,
  "metadata": {
    "colab": {
      "name": "Funnel Analysis.ipynb",
      "provenance": [],
      "collapsed_sections": []
    },
    "kernelspec": {
      "name": "python3",
      "display_name": "Python 3"
    }
  },
  "cells": [
    {
      "cell_type": "code",
      "metadata": {
        "id": "LSSOoK9u4f2l",
        "colab_type": "code",
        "colab": {}
      },
      "source": [
        "import pandas as pd\n",
        "import numpy as np"
      ],
      "execution_count": 2,
      "outputs": []
    },
    {
      "cell_type": "code",
      "metadata": {
        "id": "4UOB9G9U4u2B",
        "colab_type": "code",
        "colab": {}
      },
      "source": [
        "user=pd.read_csv('/content/drive/My Drive/Colab Notebooks/Data Challenge Pre/Funnel Analysis/user_table.csv')\n",
        "home_page=pd.read_csv('/content/drive/My Drive/Colab Notebooks/Data Challenge Pre/Funnel Analysis/home_page_table.csv')\n",
        "search_page=pd.read_csv('/content/drive/My Drive/Colab Notebooks/Data Challenge Pre/Funnel Analysis/search_page_table.csv')\n",
        "payment_page=pd.read_csv('/content/drive/My Drive/Colab Notebooks/Data Challenge Pre/Funnel Analysis/payment_page_table.csv')\n",
        "payment_confirmation_page=pd.read_csv('/content/drive/My Drive/Colab Notebooks/Data Challenge Pre/Funnel Analysis/payment_confirmation_table.csv')"
      ],
      "execution_count": 3,
      "outputs": []
    },
    {
      "cell_type": "code",
      "metadata": {
        "id": "sCu82pWg43Mv",
        "colab_type": "code",
        "colab": {
          "base_uri": "https://localhost:8080/",
          "height": 204
        },
        "outputId": "d4688b39-e733-4402-91d5-b8bee38686d6"
      },
      "source": [
        "user.head()"
      ],
      "execution_count": 4,
      "outputs": [
        {
          "output_type": "execute_result",
          "data": {
            "text/html": [
              "<div>\n",
              "<style scoped>\n",
              "    .dataframe tbody tr th:only-of-type {\n",
              "        vertical-align: middle;\n",
              "    }\n",
              "\n",
              "    .dataframe tbody tr th {\n",
              "        vertical-align: top;\n",
              "    }\n",
              "\n",
              "    .dataframe thead th {\n",
              "        text-align: right;\n",
              "    }\n",
              "</style>\n",
              "<table border=\"1\" class=\"dataframe\">\n",
              "  <thead>\n",
              "    <tr style=\"text-align: right;\">\n",
              "      <th></th>\n",
              "      <th>user_id</th>\n",
              "      <th>date</th>\n",
              "      <th>device</th>\n",
              "      <th>sex</th>\n",
              "    </tr>\n",
              "  </thead>\n",
              "  <tbody>\n",
              "    <tr>\n",
              "      <th>0</th>\n",
              "      <td>450007</td>\n",
              "      <td>2015-02-28</td>\n",
              "      <td>Desktop</td>\n",
              "      <td>Female</td>\n",
              "    </tr>\n",
              "    <tr>\n",
              "      <th>1</th>\n",
              "      <td>756838</td>\n",
              "      <td>2015-01-13</td>\n",
              "      <td>Desktop</td>\n",
              "      <td>Male</td>\n",
              "    </tr>\n",
              "    <tr>\n",
              "      <th>2</th>\n",
              "      <td>568983</td>\n",
              "      <td>2015-04-09</td>\n",
              "      <td>Desktop</td>\n",
              "      <td>Male</td>\n",
              "    </tr>\n",
              "    <tr>\n",
              "      <th>3</th>\n",
              "      <td>190794</td>\n",
              "      <td>2015-02-18</td>\n",
              "      <td>Desktop</td>\n",
              "      <td>Female</td>\n",
              "    </tr>\n",
              "    <tr>\n",
              "      <th>4</th>\n",
              "      <td>537909</td>\n",
              "      <td>2015-01-15</td>\n",
              "      <td>Desktop</td>\n",
              "      <td>Male</td>\n",
              "    </tr>\n",
              "  </tbody>\n",
              "</table>\n",
              "</div>"
            ],
            "text/plain": [
              "   user_id        date   device     sex\n",
              "0   450007  2015-02-28  Desktop  Female\n",
              "1   756838  2015-01-13  Desktop    Male\n",
              "2   568983  2015-04-09  Desktop    Male\n",
              "3   190794  2015-02-18  Desktop  Female\n",
              "4   537909  2015-01-15  Desktop    Male"
            ]
          },
          "metadata": {
            "tags": []
          },
          "execution_count": 4
        }
      ]
    },
    {
      "cell_type": "code",
      "metadata": {
        "id": "iJQ8WdN976iH",
        "colab_type": "code",
        "colab": {}
      },
      "source": [
        "desktop_user = user.loc[user.device=='Desktop'].user_id\n",
        "mobile_user = user.loc[user.device=='Mobile'].user_id"
      ],
      "execution_count": 5,
      "outputs": []
    },
    {
      "cell_type": "code",
      "metadata": {
        "id": "KVvChiIuBYB9",
        "colab_type": "code",
        "colab": {}
      },
      "source": [
        "male = user.loc[user.device=='Male'].user_id\n",
        "female = user.loc[user.device=='Female'].user_id"
      ],
      "execution_count": 6,
      "outputs": []
    },
    {
      "cell_type": "code",
      "metadata": {
        "id": "omm1eHuU592w",
        "colab_type": "code",
        "colab": {
          "base_uri": "https://localhost:8080/",
          "height": 85
        },
        "outputId": "37902623-61b5-4217-ff18-e16ae9905374"
      },
      "source": [
        "print(\"Conversion: Home page to search page\") \n",
        "print(\"Overal: \", len(search_page.user_id)/len(home_page.user_id))\n",
        "print(\"Desktop: \", sum(search_page.user_id.isin(desktop_user))/sum(home_page.user_id.isin(desktop_user)))\n",
        "print(\"Mobile: \", sum(search_page.user_id.isin(mobile_user))/sum(home_page.user_id.isin(mobile_user)))"
      ],
      "execution_count": 7,
      "outputs": [
        {
          "output_type": "stream",
          "text": [
            "Conversion: Home page to search page\n",
            "Overal:  0.5\n",
            "Desktop:  0.5\n",
            "Mobile:  0.5\n"
          ],
          "name": "stdout"
        }
      ]
    },
    {
      "cell_type": "code",
      "metadata": {
        "id": "FQmf3TPk_yMH",
        "colab_type": "code",
        "colab": {
          "base_uri": "https://localhost:8080/",
          "height": 85
        },
        "outputId": "4ab7183b-6b4b-4940-9181-64108d6b69fa"
      },
      "source": [
        "print(\"Conversion: Search page to payment page\") \n",
        "print(\"Overal: \", len(payment_page.user_id)/len(search_page.user_id))\n",
        "print(\"Desktop: \", sum(payment_page.user_id.isin(desktop_user))/sum(search_page.user_id.isin(desktop_user)))\n",
        "print(\"Mobile: \", sum(payment_page.user_id.isin(mobile_user))/sum(search_page.user_id.isin(mobile_user)))"
      ],
      "execution_count": 8,
      "outputs": [
        {
          "output_type": "stream",
          "text": [
            "Conversion: Search page to payment page\n",
            "Overal:  0.1334070796460177\n",
            "Desktop:  0.1\n",
            "Mobile:  0.2\n"
          ],
          "name": "stdout"
        }
      ]
    },
    {
      "cell_type": "code",
      "metadata": {
        "id": "hFYqY9128cS4",
        "colab_type": "code",
        "colab": {
          "base_uri": "https://localhost:8080/",
          "height": 85
        },
        "outputId": "cdddcf82-2150-461d-b7f6-3628e1968ae3"
      },
      "source": [
        "print(\"Conversion: Payment page to payment confirmation page\") \n",
        "print(\"Overal: \", len(payment_confirmation_page.user_id)/len(payment_page.user_id))\n",
        "print(\"Desktop: \", sum(payment_confirmation_page.user_id.isin(desktop_user))/sum(payment_page.user_id.isin(desktop_user)))\n",
        "print(\"Mobile: \", sum(payment_confirmation_page.user_id.isin(mobile_user))/sum(payment_page.user_id.isin(mobile_user)))"
      ],
      "execution_count": 9,
      "outputs": [
        {
          "output_type": "stream",
          "text": [
            "Conversion: Payment page to payment confirmation page\n",
            "Overal:  0.07495854063018242\n",
            "Desktop:  0.04983388704318937\n",
            "Mobile:  0.1\n"
          ],
          "name": "stdout"
        }
      ]
    },
    {
      "cell_type": "code",
      "metadata": {
        "id": "RA-o0W8WBfvO",
        "colab_type": "code",
        "colab": {
          "base_uri": "https://localhost:8080/",
          "height": 85
        },
        "outputId": "2a500ea0-aae1-4779-deb6-ca3c2a033fd3"
      },
      "source": [
        "print(\"Conversion: Homep page to payment confirmation page\") \n",
        "print(\"Overal: \", len(payment_confirmation_page.user_id)/len(home_page.user_id))\n",
        "print(\"Desktop: \", sum(payment_confirmation_page.user_id.isin(desktop_user))/sum(home_page.user_id.isin(desktop_user)))\n",
        "print(\"Mobile: \", sum(payment_confirmation_page.user_id.isin(mobile_user))/sum(home_page.user_id.isin(mobile_user)))"
      ],
      "execution_count": 10,
      "outputs": [
        {
          "output_type": "stream",
          "text": [
            "Conversion: Homep page to payment confirmation page\n",
            "Overal:  0.005\n",
            "Desktop:  0.0024916943521594683\n",
            "Mobile:  0.01\n"
          ],
          "name": "stdout"
        }
      ]
    },
    {
      "cell_type": "code",
      "metadata": {
        "id": "qy9SuSRMB8vf",
        "colab_type": "code",
        "colab": {
          "base_uri": "https://localhost:8080/",
          "height": 142
        },
        "outputId": "377b5dd8-b6b5-4c8a-d942-a8cacde48668"
      },
      "source": [
        ""
      ],
      "execution_count": 16,
      "outputs": [
        {
          "output_type": "execute_result",
          "data": {
            "text/html": [
              "<div>\n",
              "<style scoped>\n",
              "    .dataframe tbody tr th:only-of-type {\n",
              "        vertical-align: middle;\n",
              "    }\n",
              "\n",
              "    .dataframe tbody tr th {\n",
              "        vertical-align: top;\n",
              "    }\n",
              "\n",
              "    .dataframe thead th {\n",
              "        text-align: right;\n",
              "    }\n",
              "</style>\n",
              "<table border=\"1\" class=\"dataframe\">\n",
              "  <thead>\n",
              "    <tr style=\"text-align: right;\">\n",
              "      <th></th>\n",
              "      <th>user_id</th>\n",
              "      <th>date</th>\n",
              "      <th>device</th>\n",
              "      <th>sex</th>\n",
              "    </tr>\n",
              "    <tr>\n",
              "      <th>sex</th>\n",
              "      <th></th>\n",
              "      <th></th>\n",
              "      <th></th>\n",
              "      <th></th>\n",
              "    </tr>\n",
              "  </thead>\n",
              "  <tbody>\n",
              "    <tr>\n",
              "      <th>Female</th>\n",
              "      <td>0.498289</td>\n",
              "      <td>0.498289</td>\n",
              "      <td>0.498289</td>\n",
              "      <td>0.498289</td>\n",
              "    </tr>\n",
              "    <tr>\n",
              "      <th>Male</th>\n",
              "      <td>0.501711</td>\n",
              "      <td>0.501711</td>\n",
              "      <td>0.501711</td>\n",
              "      <td>0.501711</td>\n",
              "    </tr>\n",
              "  </tbody>\n",
              "</table>\n",
              "</div>"
            ],
            "text/plain": [
              "         user_id      date    device       sex\n",
              "sex                                           \n",
              "Female  0.498289  0.498289  0.498289  0.498289\n",
              "Male    0.501711  0.501711  0.501711  0.501711"
            ]
          },
          "metadata": {
            "tags": []
          },
          "execution_count": 16
        }
      ]
    },
    {
      "cell_type": "code",
      "metadata": {
        "id": "R0DRB937Bu0K",
        "colab_type": "code",
        "colab": {
          "base_uri": "https://localhost:8080/",
          "height": 255
        },
        "outputId": "d619e91a-f649-41c2-b4d3-c18698e282d7"
      },
      "source": [
        "print(\"Users on Home page, Desktop: \", len(desktop_user))\n",
        "print(\"Users on Home page, Mobile: \", len(mobile_user))\n",
        "print('\\n')\n",
        "print(\"Users on Search page, Desktop: \", sum(search_page.user_id.isin(desktop_user)))\n",
        "print(\"Users on Search page, Mobile: \", sum(search_page.user_id.isin(mobile_user)))\n",
        "print('\\n')\n",
        "print(\"Users on Payment page, Desktop: \", sum(payment_page.user_id.isin(desktop_user)))\n",
        "print(\"Users on Payment page, Mobile: \", sum(payment_page.user_id.isin(mobile_user)))\n",
        "print('\\n')\n",
        "print(\"Users on Payment Confirmation page, Desktop: \", sum(payment_confirmation_page.user_id.isin(desktop_user)))\n",
        "print(\"Users on Payment Confirmation page, Mobile: \", sum(payment_confirmation_page.user_id.isin(mobile_user)))"
      ],
      "execution_count": 11,
      "outputs": [
        {
          "output_type": "stream",
          "text": [
            "Users on Home page, Desktop:  60200\n",
            "Users on Home page, Mobile:  30200\n",
            "\n",
            "\n",
            "Users on Search page, Desktop:  30100\n",
            "Users on Search page, Mobile:  15100\n",
            "\n",
            "\n",
            "Users on Payment page, Desktop:  3010\n",
            "Users on Payment page, Mobile:  3020\n",
            "\n",
            "\n",
            "Users on Payment Confirmation page, Desktop:  150\n",
            "Users on Payment Confirmation page, Mobile:  302\n"
          ],
          "name": "stdout"
        }
      ]
    },
    {
      "cell_type": "code",
      "metadata": {
        "id": "yrNF5vy_BqyA",
        "colab_type": "code",
        "colab": {
          "base_uri": "https://localhost:8080/",
          "height": 187
        },
        "outputId": "e160dc2e-5c05-476c-96ee-daa6e850cd36"
      },
      "source": [
        "print(\"Home Page: Desktop\")\n",
        "print(user.loc[user.device=='Desktop'].groupby(user.sex).user_id.count()/len(desktop_user))\n",
        "print(\"Home Page: Mobile\")\n",
        "print(user.loc[user.device=='Mobile'].groupby(user.sex).user_id.count()/len(mobile_user))"
      ],
      "execution_count": 40,
      "outputs": [
        {
          "output_type": "stream",
          "text": [
            "Home Page: Desktop\n",
            "sex\n",
            "Female    0.498289\n",
            "Male      0.501711\n",
            "Name: user_id, dtype: float64\n",
            "Home Page: Mobile\n",
            "sex\n",
            "Female    0.499272\n",
            "Male      0.500728\n",
            "Name: user_id, dtype: float64\n"
          ],
          "name": "stdout"
        }
      ]
    },
    {
      "cell_type": "code",
      "metadata": {
        "id": "I2G24-ANC1Mx",
        "colab_type": "code",
        "colab": {
          "base_uri": "https://localhost:8080/",
          "height": 187
        },
        "outputId": "748ca155-0090-4f89-f601-00a90af5de83"
      },
      "source": [
        "print(\"Search Page: Desktop\")\n",
        "print(user.loc[user.device=='Desktop'].loc[user.user_id.isin(search_page.user_id)].groupby(user.sex).user_id.count()/sum(search_page.user_id.isin(desktop_user)))\n",
        "print(\"Search Page: Mobile\")\n",
        "print(user.loc[user.device=='Mobile'].loc[user.user_id.isin(search_page.user_id)].groupby(user.sex).user_id.count()/sum(search_page.user_id.isin(mobile_user)))"
      ],
      "execution_count": 44,
      "outputs": [
        {
          "output_type": "stream",
          "text": [
            "Search Page: Desktop\n",
            "sex\n",
            "Female    0.501362\n",
            "Male      0.498638\n",
            "Name: user_id, dtype: float64\n",
            "Search Page: Mobile\n",
            "sex\n",
            "Female    0.502318\n",
            "Male      0.497682\n",
            "Name: user_id, dtype: float64\n"
          ],
          "name": "stdout"
        }
      ]
    },
    {
      "cell_type": "code",
      "metadata": {
        "id": "uTHzL3MUDsJd",
        "colab_type": "code",
        "colab": {
          "base_uri": "https://localhost:8080/",
          "height": 187
        },
        "outputId": "c5ccbb72-f1ba-4aa3-c52c-df8796f360d6"
      },
      "source": [
        "print(\"Payment Page: Desktop\")\n",
        "print(user.loc[user.device=='Desktop'].loc[user.user_id.isin(payment_page.user_id)].groupby(user.sex).user_id.count()/sum(payment_page.user_id.isin(desktop_user)))\n",
        "print(\"Payment Page: Mobile\")\n",
        "print(user.loc[user.device=='Mobile'].loc[user.user_id.isin(payment_page.user_id)].groupby(user.sex).user_id.count()/sum(payment_page.user_id.isin(mobile_user)))"
      ],
      "execution_count": 45,
      "outputs": [
        {
          "output_type": "stream",
          "text": [
            "Payment Page: Desktop\n",
            "sex\n",
            "Female    0.508306\n",
            "Male      0.491694\n",
            "Name: user_id, dtype: float64\n",
            "Payment Page: Mobile\n",
            "sex\n",
            "Female    0.519868\n",
            "Male      0.480132\n",
            "Name: user_id, dtype: float64\n"
          ],
          "name": "stdout"
        }
      ]
    },
    {
      "cell_type": "code",
      "metadata": {
        "id": "xyncnxR9Fbvp",
        "colab_type": "code",
        "colab": {
          "base_uri": "https://localhost:8080/",
          "height": 187
        },
        "outputId": "c2691604-54f9-4789-c026-c681f88e9989"
      },
      "source": [
        "print(\"Payment Confirmation Page: Desktop\")\n",
        "print(user.loc[user.device=='Desktop'].loc[user.user_id.isin(payment_confirmation_page.user_id)].groupby(user.sex).user_id.count()/sum(payment_confirmation_page.user_id.isin(desktop_user)))\n",
        "print(\"Payment Confirmation Page: Mobile\")\n",
        "print(user.loc[user.device=='Mobile'].loc[user.user_id.isin(payment_confirmation_page.user_id)].groupby(user.sex).user_id.count()/sum(payment_confirmation_page.user_id.isin(mobile_user)))"
      ],
      "execution_count": 46,
      "outputs": [
        {
          "output_type": "stream",
          "text": [
            "Payment Confirmation Page: Desktop\n",
            "sex\n",
            "Female    0.493333\n",
            "Male      0.506667\n",
            "Name: user_id, dtype: float64\n",
            "Payment Confirmation Page: Mobile\n",
            "sex\n",
            "Female    0.55298\n",
            "Male      0.44702\n",
            "Name: user_id, dtype: float64\n"
          ],
          "name": "stdout"
        }
      ]
    }
  ]
}